{
 "cells": [
  {
   "cell_type": "code",
   "execution_count": 9,
   "metadata": {
    "collapsed": true
   },
   "outputs": [],
   "source": [
    "import numpy as np\n",
    "from multiClassSoftmax import *\n",
    "import pandas as pd"
   ]
  },
  {
   "cell_type": "code",
   "execution_count": 10,
   "metadata": {
    "collapsed": true
   },
   "outputs": [],
   "source": [
    "def compactNotation(X):\n",
    "    \"\"\"\n",
    "    a/ppend 1 to X\n",
    "    \"\"\"\n",
    "    return np.hstack([np.ones([X.shape[0], 1]), X])\n",
    "\n",
    "def readData(path):\n",
    "    \"\"\"\n",
    "    Read data from a specified path\n",
    "    Returns:\n",
    "        X: in compact notation\n",
    "        Y: a matrix of [Nsamples, 1] where values are from 0 to 9\n",
    "    \"\"\"\n",
    "\n",
    "    # TODO\n",
    "    data = np.asarray (pd. read_csv (path , header = None ))\n",
    "    X = data [: ,0: -1]\n",
    "    y = data [: , -1]\n",
    "    y. shape = ( len(y) ,1)\n",
    "    o = np. ones (( np. shape (X) [0] ,1) )\n",
    "    X = np. concatenate ((o,X),axis = 1)\n",
    "    return X,y.astype(int)\n",
    "    \n",
    "def checkGradient(loss, grad, w, *args):\n",
    "    \"\"\"\n",
    "    Gradient checking\n",
    "    \"\"\"\n",
    "    computed_grad = grad(w, *args)\n",
    "\n",
    "    # compute numerical gradient\n",
    "    num_grad = np.zeros_like(computed_grad)\n",
    "    eps = 1e-5\n",
    "    for i in range(computed_grad.shape[0]):\n",
    "        for j in range(computed_grad.shape[1]):\n",
    "            w1 = w.copy()\n",
    "            w1[i][j] += eps\n",
    "            num_grad[i][j] = (loss(w1, *args) - loss(w, *args))/eps\n",
    "\n",
    "    assert np.linalg.norm(computed_grad - num_grad)/np.linalg.norm(computed_grad + num_grad) < 1e-2\n",
    "\n",
    "def gradientDescent(grad, w0, *args, **kwargs):\n",
    "    \"\"\"\n",
    "    Gradient descent\n",
    "    \"\"\"\n",
    "    max_iter = 5000\n",
    "    alpha = 0.001\n",
    "    eps = 1e-5\n",
    "\n",
    "    w = w0\n",
    "    iter = 0\n",
    "    while True:\n",
    "        gradient = grad(w, *args)\n",
    "        w = w - alpha * gradient\n",
    "\n",
    "        if iter > max_iter or np.linalg.norm(gradient) < eps:\n",
    "            break\n",
    "\n",
    "        if iter  % 1000 == 1:\n",
    "            print(\"Iter %d \" % iter)\n",
    "\n",
    "        iter += 1\n",
    "\n",
    "    return w"
   ]
  },
  {
   "cell_type": "code",
   "execution_count": 43,
   "metadata": {
    "collapsed": true
   },
   "outputs": [],
   "source": [
    "def checkSize(w, X, y):\n",
    "    # w: 785 by 10 matrix\n",
    "    # X: N by 785 matrix\n",
    "    # y: N by 1 matrix\n",
    "#     print(y.dtype)\n",
    "    assert y.dtype == 'int'\n",
    "    assert X.shape[0] == y.shape[0]\n",
    "    assert X.shape[1] == w.shape[0]\n",
    "    assert len(y.shape) == 2\n",
    "    assert y.shape[1] == 1\n",
    "\n",
    "def loss(w, X, y):\n",
    "    \"\"\"\n",
    "    Optional\n",
    "    Useful to run gradient checking\n",
    "    Utilize softmax function below\n",
    "    \"\"\"\n",
    "    checkSize(w, X, y)\n",
    "\n",
    "    # TODO\n",
    "\n",
    "def grad(w, X, y):\n",
    "    \"\"\"\n",
    "    Return gradient of multiclass softmax\n",
    "    Utilize softmax function below\n",
    "    \"\"\"\n",
    "    checkSize(w, X, y)\n",
    "    \n",
    "    # TODO\n",
    "    temp = np.matmul(X, w)\n",
    "    grad = np.matmul(X.T, np.multiply(-y, sigma(np.multiply(-y, temp))))\n",
    "    return grad\n",
    "\n",
    "\n",
    "def sigma(input):\n",
    "    return 1./(1 + np.exp(-input))\n",
    "\n",
    "def softmax(w, X):\n",
    "    scores = np.matmul(X, w)\n",
    "    maxscores = scores.max(axis = 1)\n",
    "    scores = scores - maxscores[:, np.newaxis]\n",
    "    exp_scores = np.exp(scores)\n",
    "\n",
    "    sum_scores = np.sum(exp_scores, axis = 1)\n",
    "    return exp_scores/sum_scores[:, np.newaxis]\n",
    "\n",
    "def predict(w, X):\n",
    "    \"\"\"\n",
    "    Prediction\n",
    "    \"\"\"\n",
    "\n",
    "    # TODO\n",
    "    return np.argmax(np.dot(X,w), axis = 1)\n",
    "\n",
    "def accuracy(w, X, y):\n",
    "    \"\"\"\n",
    "    Accuracy of the model\n",
    "    \"\"\"\n",
    "    \n",
    "    # TODO\n",
    "    pred = np.argmax(np.dot(X.T, w), axis = 1)\n",
    "    result = 0 \n",
    "    return float(np.sum(np.abs(y - pred) < 0.00001))/len(pred)\n",
    "\n",
    "#return a y array (P * 1), with all values assigned to 1 if y == val; ow. -1\n",
    "def get_sep_y(y, val):\n",
    "    result = y\n",
    "    bolArr = result == 6\n",
    "    result[bolArr] = 1\n",
    "    result[np.logical_not(bolArr)] = -1\n",
    "    return result"
   ]
  },
  {
   "cell_type": "code",
   "execution_count": 47,
   "metadata": {},
   "outputs": [
    {
     "name": "stdout",
     "output_type": "stream",
     "text": [
      "Iter 1 \n",
      "Iter 1001 \n",
      "Iter 2001 \n",
      "Iter 3001 \n",
      "Iter 4001 \n"
     ]
    },
    {
     "ename": "NameError",
     "evalue": "name 'w_optimal' is not defined",
     "output_type": "error",
     "traceback": [
      "\u001b[1;31m---------------------------------------------------------------------------\u001b[0m",
      "\u001b[1;31mNameError\u001b[0m                                 Traceback (most recent call last)",
      "\u001b[1;32m<ipython-input-47-296897e23d3a>\u001b[0m in \u001b[0;36m<module>\u001b[1;34m()\u001b[0m\n\u001b[0;32m     15\u001b[0m \u001b[1;33m\u001b[0m\u001b[0m\n\u001b[0;32m     16\u001b[0m     \u001b[1;31m# Accuracy\u001b[0m\u001b[1;33m\u001b[0m\u001b[1;33m\u001b[0m\u001b[0m\n\u001b[1;32m---> 17\u001b[1;33m \u001b[0mprint\u001b[0m\u001b[1;33m(\u001b[0m\u001b[1;34m\"Accuracy for training set is %f\"\u001b[0m \u001b[1;33m%\u001b[0m \u001b[0maccuracy\u001b[0m\u001b[1;33m(\u001b[0m\u001b[0mw_optimal\u001b[0m\u001b[1;33m,\u001b[0m \u001b[0mtrainX\u001b[0m\u001b[1;33m,\u001b[0m \u001b[0mtrainY\u001b[0m\u001b[1;33m)\u001b[0m\u001b[1;33m)\u001b[0m\u001b[1;33m\u001b[0m\u001b[0m\n\u001b[0m\u001b[0;32m     18\u001b[0m \u001b[0mprint\u001b[0m\u001b[1;33m(\u001b[0m\u001b[1;34m\"Accuracy for test set is %f\"\u001b[0m \u001b[1;33m%\u001b[0m \u001b[0maccuracy\u001b[0m\u001b[1;33m(\u001b[0m\u001b[0mw_optimal\u001b[0m\u001b[1;33m,\u001b[0m \u001b[0mtestX\u001b[0m\u001b[1;33m,\u001b[0m \u001b[0mtestY\u001b[0m\u001b[1;33m)\u001b[0m\u001b[1;33m)\u001b[0m\u001b[1;33m\u001b[0m\u001b[0m\n",
      "\u001b[1;31mNameError\u001b[0m: name 'w_optimal' is not defined"
     ]
    }
   ],
   "source": [
    "trainX, trainY = readData('MNIST_train_data.csv')\n",
    "testX, testY = readData('MNIST_test_data.csv')\n",
    "\n",
    "    # # gradient checking\n",
    "    # w = np.ones((785,10))\n",
    "    # print(\"Checking gradient\")\n",
    "    # checkGradient(loss, grad, w, testX, testY)\n",
    "\n",
    "    # Optimizing with gradient descent\n",
    "OVA = []\n",
    "for v in range(10):\n",
    "    train_y_sep = get_sep_y(trainY, v)\n",
    "    w = np.ones((trainX.shape[1], 1))\n",
    "    OVA.append(gradientDescent(grad, w, trainX, train_y_sep))\n",
    "\n",
    "    # Accuracy\n",
    "print(\"Accuracy for training set is %f\" % accuracy(w_optimal, trainX, trainY))\n",
    "print(\"Accuracy for test set is %f\" % accuracy(w_optimal, testX, testY))"
   ]
  },
  {
   "cell_type": "code",
   "execution_count": 45,
   "metadata": {},
   "outputs": [
    {
     "data": {
      "text/plain": [
       "(60000, 1)"
      ]
     },
     "execution_count": 45,
     "metadata": {},
     "output_type": "execute_result"
    }
   ],
   "source": [
    "trainX.shape\n",
    "trainY.shape"
   ]
  }
 ],
 "metadata": {
  "kernelspec": {
   "display_name": "Python 3",
   "language": "python",
   "name": "python3"
  },
  "language_info": {
   "codemirror_mode": {
    "name": "ipython",
    "version": 3
   },
   "file_extension": ".py",
   "mimetype": "text/x-python",
   "name": "python",
   "nbconvert_exporter": "python",
   "pygments_lexer": "ipython3",
   "version": "3.6.3"
  }
 },
 "nbformat": 4,
 "nbformat_minor": 2
}
